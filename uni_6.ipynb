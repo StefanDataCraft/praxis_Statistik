{
 "cells": [
  {
   "cell_type": "markdown",
   "source": [
    "# Punkt 6\n",
    "Stelle dieses bis zum Endpunkt verbesserte Modell zur Vorhersage deiner abhängigen\n",
    "Variable dar und interpretiere hierbei alle Bestandteile des Modells (sowohl Grundlagen, die vollständige Regressionsgleichung mit allen Koeffizienten sowie die Voraussetzungen des Modells). Zeige beispielhaft an dieser Regressionsgleichung, wie man\n",
    "nun einen Wert mit dieser Gleichung vorhersagen kann"
   ],
   "metadata": {
    "collapsed": false
   }
  },
  {
   "cell_type": "code",
   "execution_count": 3,
   "outputs": [
    {
     "name": "stdout",
     "output_type": "stream",
     "text": [
      "                             OLS Regression Results                            \n",
      "===============================================================================\n",
      "Dep. Variable:     Lebenszufriedenheit   R-squared:                         nan\n",
      "Model:                             OLS   Adj. R-squared:                    nan\n",
      "Method:                  Least Squares   F-statistic:                       nan\n",
      "Date:                 Wed, 19 Jul 2023   Prob (F-statistic):                nan\n",
      "Time:                         18:35:02   Log-Likelihood:                    nan\n",
      "No. Observations:                  886   AIC:                               nan\n",
      "Df Residuals:                      880   BIC:                               nan\n",
      "Df Model:                            5                                         \n",
      "Covariance Type:             nonrobust                                         \n",
      "================================================================================================\n",
      "                                   coef    std err          t      P>|t|      [0.025      0.975]\n",
      "------------------------------------------------------------------------------------------------\n",
      "const                               nan        nan        nan        nan         nan         nan\n",
      "Durchschnittsnote_im_Abitur         nan        nan        nan        nan         nan         nan\n",
      "Mathematiknote_im_Abitur            nan        nan        nan        nan         nan         nan\n",
      "Lernaufwand                         nan        nan        nan        nan         nan         nan\n",
      "Schwierigkeitsgrad                  nan        nan        nan        nan         nan         nan\n",
      "Zufriedenheit_mit_Gesundheit        nan        nan        nan        nan         nan         nan\n",
      "==============================================================================\n",
      "Omnibus:                          nan   Durbin-Watson:                     nan\n",
      "Prob(Omnibus):                    nan   Jarque-Bera (JB):                  nan\n",
      "Skew:                             nan   Prob(JB):                          nan\n",
      "Kurtosis:                         nan   Cond. No.                         749.\n",
      "==============================================================================\n",
      "\n",
      "Notes:\n",
      "[1] Standard Errors assume that the covariance matrix of the errors is correctly specified.\n",
      "Predicted Lebenszufriedenheit: nan\n"
     ]
    }
   ],
   "source": [
    "import scipy.stats as stats\n",
    "import matplotlib.pyplot as plt\n",
    "import seaborn as sns\n",
    "import statsmodels.api as sm\n",
    "\n",
    "uni_df = pd.read_excel(\"C:\\\\Users\\\\User\\\\Desktop\\\\Statistik\\\\Project\\\\Fallstudiendaten_Uni.xlsx\")\n",
    "\n",
    "\n",
    "columns_list = ['Participant', 'Studiengang', 'Standort', 'Besuch Wirtschaftsmathematik', 'Geschlecht', 'Geburtsjahr', 'Beziehungsstatus', 'Durchschnittsnote im Abitur', 'Mathematiknote im Abitur', 'LK_Deutsch', 'LK_Mathe', 'LK_Englisch', 'Religion', 'Lernaufwand', 'Schwierigkeitsgrad', 'Umfang', 'Erwartungen', 'Zeit-Studium', 'Zeit-Praxispartner', 'Zeit-Nebenjob', 'Zeit-Hobbys', 'Zeit-Freizeit', 'Zeit-Hausarbeit', 'Zeit-Essen', 'Zeit-Schlafen', 'Zeit-Sonstiges', 'Wechsel Praxispartner', 'Lebenszufriedenheit', 'Zufriedenheit mit Praxispartner', 'Zufriedenheit mit finanzieller Situation', 'Zufriedenheit mit Gesundheit', 'Zufriedenheit mit Kommilitonenaustausch', 'Studienzufriedenheit', 'Mathenote im 2. Semester', 'Zufriedenheit mit Note']\n",
    "\n",
    "columns_without_spaces = [column_name.replace(\" \",\"_\").replace(\"-\",\"_\").replace(\".\",\"\") for column_name in columns_list]\n",
    "uni_df.columns = columns_without_spaces\n",
    "# Define the dependent and selected variables\n",
    "dependent_variable = 'Lebenszufriedenheit'\n",
    "selected_variables = ['Durchschnittsnote_im_Abitur', 'Mathematiknote_im_Abitur', 'Lernaufwand', 'Schwierigkeitsgrad', 'Zufriedenheit_mit_Gesundheit']\n",
    "\n",
    "# Step 1: Data cleaning\n",
    "# ... (your data cleaning code here) ...\n",
    "uni_df_cleaned = uni_df.copy()\n",
    "\n",
    "for column in selected_variables:\n",
    "    if uni_df_cleaned[column].isnull().any():\n",
    "        uni_df_cleaned[column].fillna(uni_df_cleaned[column].mean(), inplace=True)\n",
    "\n",
    "for column in selected_variables:\n",
    "    if np.isinf(uni_df_cleaned[column]).any():\n",
    "        uni_df_cleaned[column].replace([np.inf, -np.inf], np.nan, inplace=True)\n",
    "        uni_df_cleaned[column].fillna(1e9, inplace=True)\n",
    "\n",
    "uni_df_cleaned = pd.get_dummies(uni_df_cleaned, columns=['Geschlecht'], drop_first=True)\n",
    "\n",
    "# Step 2: Prepare the data for regression\n",
    "x = uni_df_cleaned[selected_variables]\n",
    "y = uni_df_cleaned[dependent_variable]\n",
    "X = sm.add_constant(x)  # Adding a constant (for the intercepts)\n",
    "\n",
    "# Step 3: Fit the regression model\n",
    "model = sm.OLS(y, X).fit()\n",
    "\n",
    "# Step 4: Print the regression summary\n",
    "print(model.summary())\n",
    "\n",
    "# Step 5: Make predictions\n",
    "# Replace the following values with the specific values you want to predict for\n",
    "new_values = {\n",
    "    'const': 1,  # Add a constant term\n",
    "    'Durchschnittsnote_im_Abitur': 2.8,\n",
    "    'Mathematiknote_im_Abitur': 2.9,\n",
    "    'Lernaufwand': 25,\n",
    "    'Schwierigkeitsgrad': 7,\n",
    "    'Zufriedenheit_mit_Gesundheit': 8,\n",
    "}\n",
    "\n",
    "# Create a DataFrame with the new values\n",
    "new_data = pd.DataFrame([new_values])\n",
    "\n",
    "# Make the prediction\n",
    "prediction = model.predict(new_data)\n",
    "\n",
    "# Print the predicted value\n",
    "print(\"Predicted Lebenszufriedenheit:\", prediction[0])\n"
   ],
   "metadata": {
    "collapsed": false
   }
  },
  {
   "cell_type": "markdown",
   "source": [],
   "metadata": {
    "collapsed": false
   }
  }
 ],
 "metadata": {
  "kernelspec": {
   "display_name": "Python 3",
   "language": "python",
   "name": "python3"
  },
  "language_info": {
   "codemirror_mode": {
    "name": "ipython",
    "version": 2
   },
   "file_extension": ".py",
   "mimetype": "text/x-python",
   "name": "python",
   "nbconvert_exporter": "python",
   "pygments_lexer": "ipython2",
   "version": "2.7.6"
  }
 },
 "nbformat": 4,
 "nbformat_minor": 0
}
