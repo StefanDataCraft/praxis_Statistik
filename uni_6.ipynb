{
 "cells": [
  {
   "cell_type": "markdown",
   "source": [
    "# Punkt 6\n",
    "Stelle dieses bis zum Endpunkt verbesserte Modell zur Vorhersage deiner abhängigen\n",
    "Variable dar und interpretiere hierbei alle Bestandteile des Modells (sowohl Grundlagen, die vollständige Regressionsgleichung mit allen Koeffizienten sowie die Voraussetzungen des Modells). Zeige beispielhaft an dieser Regressionsgleichung, wie man\n",
    "nun einen Wert mit dieser Gleichung vorhersagen kann"
   ],
   "metadata": {
    "collapsed": false
   }
  },
  {
   "cell_type": "code",
   "execution_count": 5,
   "outputs": [
    {
     "name": "stdout",
     "output_type": "stream",
     "text": [
      "                             OLS Regression Results                            \n",
      "===============================================================================\n",
      "Dep. Variable:     Lebenszufriedenheit   R-squared:                       0.301\n",
      "Model:                             OLS   Adj. R-squared:                  0.296\n",
      "Method:                  Least Squares   F-statistic:                     60.26\n",
      "Date:                 Fri, 21 Jul 2023   Prob (F-statistic):           3.10e-52\n",
      "Time:                         11:45:18   Log-Likelihood:                -1372.3\n",
      "No. Observations:                  707   AIC:                             2757.\n",
      "Df Residuals:                      701   BIC:                             2784.\n",
      "Df Model:                            5                                         \n",
      "Covariance Type:             nonrobust                                         \n",
      "============================================================================================================\n",
      "                                               coef    std err          t      P>|t|      [0.025      0.975]\n",
      "------------------------------------------------------------------------------------------------------------\n",
      "const                                        2.2587      0.287      7.874      0.000       1.695       2.822\n",
      "Zufriedenheit_mit_Kommilitonenaustausch      0.0399      0.028      1.443      0.150      -0.014       0.094\n",
      "Zufriedenheit_mit_finanzieller_Situation     0.0766      0.025      3.049      0.002       0.027       0.126\n",
      "Zufriedenheit_mit_Praxispartner              0.1599      0.027      5.992      0.000       0.107       0.212\n",
      "Zufriedenheit_mit_Gesundheit                 0.1993      0.028      7.088      0.000       0.144       0.254\n",
      "Studienzufriedenheit                         0.2577      0.034      7.542      0.000       0.191       0.325\n",
      "==============================================================================\n",
      "Omnibus:                       53.481   Durbin-Watson:                   2.117\n",
      "Prob(Omnibus):                  0.000   Jarque-Bera (JB):               70.949\n",
      "Skew:                          -0.620   Prob(JB):                     3.92e-16\n",
      "Kurtosis:                       3.934   Cond. No.                         63.6\n",
      "==============================================================================\n",
      "\n",
      "Notes:\n",
      "[1] Standard Errors assume that the covariance matrix of the errors is correctly specified.\n",
      "Predicted Lebenszufriedenheit: 10.046683251747016\n"
     ]
    }
   ],
   "source": [
    "import scipy.stats as stats\n",
    "import matplotlib.pyplot as plt\n",
    "import seaborn as sns\n",
    "import pandas as pd\n",
    "import numpy as np\n",
    "import statsmodels.api as sm\n",
    "import make_uni_df\n",
    "\n",
    "uni_df = make_uni_df.get_dummied_df()\n",
    "\n",
    "uni_df = uni_df[['Lebenszufriedenheit','Zufriedenheit_mit_Kommilitonenaustausch','Zufriedenheit_mit_finanzieller_Situation','Zufriedenheit_mit_Praxispartner','Zufriedenheit_mit_Gesundheit','Studienzufriedenheit']]\n",
    "# Define the dependent and selected variables\n",
    "dependent_variable = 'Lebenszufriedenheit'\n",
    "selected_variables = list(uni_df.columns)\n",
    "selected_variables.remove('Lebenszufriedenheit')\n",
    "\n",
    "# Step 1: Data cleaning\n",
    "# ... (your data cleaning code here) ...\n",
    "uni_df_cleaned = uni_df.copy()\n",
    "uni_df_cleaned = uni_df.dropna(subset=[dependent_variable] + selected_variables)\n",
    "\n",
    "\"\"\"for column in selected_variables:\n",
    "    if uni_df_cleaned[column].isnull().any():\n",
    "        uni_df_cleaned[column].fillna(uni_df_cleaned[column].mean(), inplace=True)\n",
    "\n",
    "for column in selected_variables:\n",
    "    if np.isinf(uni_df_cleaned[column]).any():\n",
    "        uni_df_cleaned[column].replace([np.inf, -np.inf], np.nan, inplace=True)\n",
    "        uni_df_cleaned[column].fillna(1e9, inplace=True)\n",
    "\"\"\"\n",
    "# Step 2: Prepare the data for regression\n",
    "x = uni_df_cleaned[selected_variables]\n",
    "y = uni_df_cleaned[dependent_variable]\n",
    "X = sm.add_constant(x)  # Adding a constant (for the intercepts)\n",
    "\n",
    "# Step 3: Fit the regression model\n",
    "model = sm.OLS(y, X).fit()\n",
    "\n",
    "# Step 4: Print the regression summary\n",
    "print(model.summary())\n",
    "\n",
    "\n",
    "# Step 5: Make predictions\n",
    "# Replace the following values with the specific values you want to predict for\n",
    "new_values = {\n",
    "    'const': 1,  # Add a constant term\n",
    "    'Durchschnittsnote_im_Abitur': 2.8,\n",
    "    'Mathematiknote_im_Abitur': 2.9,\n",
    "    'Lernaufwand': 25,\n",
    "    'Schwierigkeitsgrad': 7,\n",
    "    'Zufriedenheit_mit_Gesundheit': 8,\n",
    "}\n",
    "\n",
    "# Create a DataFrame with the new values\n",
    "new_data = pd.DataFrame([new_values])\n",
    "\n",
    "# Make the prediction\n",
    "prediction = model.predict(new_data)\n",
    "\n",
    "# Print the predicted value\n",
    "print(\"Predicted Lebenszufriedenheit:\", prediction[0])"
   ],
   "metadata": {
    "collapsed": false
   }
  },
  {
   "cell_type": "markdown",
   "source": [
    "Die Koeffiziente sind folgende:\n",
    "Y-Schnittstelle                              2.2587\n",
    "Zufriedenheit_mit_Kommilitonenaustausch      0.0399\n",
    "Zufriedenheit_mit_finanzieller_Situation     0.0766\n",
    "Zufriedenheit_mit_Praxispartner              0.1599\n",
    "Zufriedenheit_mit_Gesundheit                 0.1993\n",
    "Studienzufriedenheit                         0.2577\n"
   ],
   "metadata": {
    "collapsed": false
   }
  },
  {
   "cell_type": "markdown",
   "source": [
    "Gleichung(Lebenszufriedenheit) = 2.2587+\n",
    "Zufriedenheit_mit_Kommilitonenaustausch x 0.0399+\n",
    "Zufriedenheit_mit_finanzieller_Situation x 0.0766+\n",
    "Zufriedenheit_mit_Praxispartner x 0.1599+\n",
    "Zufriedenheit_mit_Gesundheit x 0.1993+\n",
    "Studienzufriedenheit x 0.2577"
   ],
   "metadata": {
    "collapsed": false
   }
  },
  {
   "cell_type": "code",
   "execution_count": null,
   "outputs": [],
   "source": [],
   "metadata": {
    "collapsed": false
   }
  }
 ],
 "metadata": {
  "kernelspec": {
   "display_name": "Python 3",
   "language": "python",
   "name": "python3"
  },
  "language_info": {
   "codemirror_mode": {
    "name": "ipython",
    "version": 2
   },
   "file_extension": ".py",
   "mimetype": "text/x-python",
   "name": "python",
   "nbconvert_exporter": "python",
   "pygments_lexer": "ipython2",
   "version": "2.7.6"
  }
 },
 "nbformat": 4,
 "nbformat_minor": 0
}
