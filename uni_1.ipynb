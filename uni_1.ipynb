{
 "cells": [
  {
   "cell_type": "code",
   "execution_count": 2,
   "outputs": [],
   "source": [
    "import pandas as pd\n",
    "from scipy import stats\n",
    "import statsmodels.formula.api as smf\n",
    "import numpy as np\n",
    "import statsmodels.formula.api as smf\n",
    "import scipy.stats as stats"
   ],
   "metadata": {
    "collapsed": false
   }
  },
  {
   "cell_type": "code",
   "execution_count": 4,
   "metadata": {
    "collapsed": true
   },
   "outputs": [
    {
     "data": {
      "text/plain": "     Participant  Studiengang  Standort  Besuch Wirtschaftsmathematik  \\\n0             53            4        21                           5.0   \n1             55            4        21                           6.0   \n2             56            4        21                           6.0   \n3             57           16        21                           8.0   \n4             58           16        21                           5.0   \n..           ...          ...       ...                           ...   \n881         1022           24        18                           NaN   \n882         1023           24        18                           NaN   \n883         1024            4        18                           NaN   \n884         1025            5        18                           6.0   \n885         1026            5        18                           NaN   \n\n     Geschlecht  Geburtsjahr  Beziehungsstatus  Durchschnittsnote im Abitur  \\\n0             1         24.0               NaN                          NaN   \n1             2         19.0               3.0                          3.0   \n2             2         22.0               1.0                          3.3   \n3             2         21.0               2.0                          2.3   \n4             1         19.0               1.0                          NaN   \n..          ...          ...               ...                          ...   \n881           2         23.0               NaN                          2.0   \n882           2         23.0               2.0                          3.3   \n883           1         20.0               NaN                          NaN   \n884           1         22.0               1.0                          2.0   \n885           2         19.0               3.0                          3.0   \n\n     Mathematiknote im Abitur  LK_Deutsch  ...  Zeit-Sonstiges  \\\n0                         NaN         0.0  ...             NaN   \n1                         3.0         0.0  ...             1.0   \n2                         2.8         0.0  ...             NaN   \n3                         3.0         1.0  ...             NaN   \n4                         NaN         NaN  ...             NaN   \n..                        ...         ...  ...             ...   \n881                       2.0         0.0  ...            36.0   \n882                       4.0         0.0  ...             NaN   \n883                       3.0         0.0  ...            31.0   \n884                       2.0         0.0  ...             NaN   \n885                       3.0         0.0  ...             NaN   \n\n     Wechsel Praxispartner  Lebenszufriedenheit  \\\n0                      NaN                  NaN   \n1                      2.0                  5.0   \n2                      NaN                  NaN   \n3                      2.0                  6.0   \n4                      3.0                 10.0   \n..                     ...                  ...   \n881                    3.0                  4.0   \n882                    3.0                  9.0   \n883                    3.0                  7.0   \n884                    3.0                  8.0   \n885                    3.0                  7.0   \n\n     Zufriedenheit mit Praxispartner  \\\n0                                NaN   \n1                                3.0   \n2                                NaN   \n3                                3.0   \n4                               10.0   \n..                               ...   \n881                              6.0   \n882                              8.0   \n883                              7.0   \n884                              8.0   \n885                              8.0   \n\n     Zufriedenheit mit finanzieller Situation  Zufriedenheit mit Gesundheit  \\\n0                                         NaN                           NaN   \n1                                         2.0                           5.0   \n2                                         NaN                           NaN   \n3                                         2.0                           6.0   \n4                                         6.0                          10.0   \n..                                        ...                           ...   \n881                                      10.0                           3.0   \n882                                       5.0                          10.0   \n883                                       3.0                           6.0   \n884                                       7.0                           9.0   \n885                                       6.0                           8.0   \n\n     Zufriedenheit mit Kommilitonenaustausch  Studienzufriedenheit  \\\n0                                        NaN                   NaN   \n1                                        7.0                   7.0   \n2                                        NaN                   NaN   \n3                                        5.0                   6.0   \n4                                        5.0                  10.0   \n..                                       ...                   ...   \n881                                      1.0                   6.0   \n882                                      6.0                   7.0   \n883                                      8.0                   6.0   \n884                                      9.0                   9.0   \n885                                      9.0                   4.0   \n\n     Mathenote im 2. Semester  Zufriedenheit mit Note  \n0                         NaN                     NaN  \n1                         1.3                     2.0  \n2                         NaN                     NaN  \n3                         NaN                     NaN  \n4                         1.7                     3.0  \n..                        ...                     ...  \n881                       2.0                     3.0  \n882                       4.0                     2.0  \n883                       3.7                     3.0  \n884                       3.0                     2.0  \n885                       5.0                     2.0  \n\n[886 rows x 35 columns]",
      "text/html": "<div>\n<style scoped>\n    .dataframe tbody tr th:only-of-type {\n        vertical-align: middle;\n    }\n\n    .dataframe tbody tr th {\n        vertical-align: top;\n    }\n\n    .dataframe thead th {\n        text-align: right;\n    }\n</style>\n<table border=\"1\" class=\"dataframe\">\n  <thead>\n    <tr style=\"text-align: right;\">\n      <th></th>\n      <th>Participant</th>\n      <th>Studiengang</th>\n      <th>Standort</th>\n      <th>Besuch Wirtschaftsmathematik</th>\n      <th>Geschlecht</th>\n      <th>Geburtsjahr</th>\n      <th>Beziehungsstatus</th>\n      <th>Durchschnittsnote im Abitur</th>\n      <th>Mathematiknote im Abitur</th>\n      <th>LK_Deutsch</th>\n      <th>...</th>\n      <th>Zeit-Sonstiges</th>\n      <th>Wechsel Praxispartner</th>\n      <th>Lebenszufriedenheit</th>\n      <th>Zufriedenheit mit Praxispartner</th>\n      <th>Zufriedenheit mit finanzieller Situation</th>\n      <th>Zufriedenheit mit Gesundheit</th>\n      <th>Zufriedenheit mit Kommilitonenaustausch</th>\n      <th>Studienzufriedenheit</th>\n      <th>Mathenote im 2. Semester</th>\n      <th>Zufriedenheit mit Note</th>\n    </tr>\n  </thead>\n  <tbody>\n    <tr>\n      <th>0</th>\n      <td>53</td>\n      <td>4</td>\n      <td>21</td>\n      <td>5.0</td>\n      <td>1</td>\n      <td>24.0</td>\n      <td>NaN</td>\n      <td>NaN</td>\n      <td>NaN</td>\n      <td>0.0</td>\n      <td>...</td>\n      <td>NaN</td>\n      <td>NaN</td>\n      <td>NaN</td>\n      <td>NaN</td>\n      <td>NaN</td>\n      <td>NaN</td>\n      <td>NaN</td>\n      <td>NaN</td>\n      <td>NaN</td>\n      <td>NaN</td>\n    </tr>\n    <tr>\n      <th>1</th>\n      <td>55</td>\n      <td>4</td>\n      <td>21</td>\n      <td>6.0</td>\n      <td>2</td>\n      <td>19.0</td>\n      <td>3.0</td>\n      <td>3.0</td>\n      <td>3.0</td>\n      <td>0.0</td>\n      <td>...</td>\n      <td>1.0</td>\n      <td>2.0</td>\n      <td>5.0</td>\n      <td>3.0</td>\n      <td>2.0</td>\n      <td>5.0</td>\n      <td>7.0</td>\n      <td>7.0</td>\n      <td>1.3</td>\n      <td>2.0</td>\n    </tr>\n    <tr>\n      <th>2</th>\n      <td>56</td>\n      <td>4</td>\n      <td>21</td>\n      <td>6.0</td>\n      <td>2</td>\n      <td>22.0</td>\n      <td>1.0</td>\n      <td>3.3</td>\n      <td>2.8</td>\n      <td>0.0</td>\n      <td>...</td>\n      <td>NaN</td>\n      <td>NaN</td>\n      <td>NaN</td>\n      <td>NaN</td>\n      <td>NaN</td>\n      <td>NaN</td>\n      <td>NaN</td>\n      <td>NaN</td>\n      <td>NaN</td>\n      <td>NaN</td>\n    </tr>\n    <tr>\n      <th>3</th>\n      <td>57</td>\n      <td>16</td>\n      <td>21</td>\n      <td>8.0</td>\n      <td>2</td>\n      <td>21.0</td>\n      <td>2.0</td>\n      <td>2.3</td>\n      <td>3.0</td>\n      <td>1.0</td>\n      <td>...</td>\n      <td>NaN</td>\n      <td>2.0</td>\n      <td>6.0</td>\n      <td>3.0</td>\n      <td>2.0</td>\n      <td>6.0</td>\n      <td>5.0</td>\n      <td>6.0</td>\n      <td>NaN</td>\n      <td>NaN</td>\n    </tr>\n    <tr>\n      <th>4</th>\n      <td>58</td>\n      <td>16</td>\n      <td>21</td>\n      <td>5.0</td>\n      <td>1</td>\n      <td>19.0</td>\n      <td>1.0</td>\n      <td>NaN</td>\n      <td>NaN</td>\n      <td>NaN</td>\n      <td>...</td>\n      <td>NaN</td>\n      <td>3.0</td>\n      <td>10.0</td>\n      <td>10.0</td>\n      <td>6.0</td>\n      <td>10.0</td>\n      <td>5.0</td>\n      <td>10.0</td>\n      <td>1.7</td>\n      <td>3.0</td>\n    </tr>\n    <tr>\n      <th>...</th>\n      <td>...</td>\n      <td>...</td>\n      <td>...</td>\n      <td>...</td>\n      <td>...</td>\n      <td>...</td>\n      <td>...</td>\n      <td>...</td>\n      <td>...</td>\n      <td>...</td>\n      <td>...</td>\n      <td>...</td>\n      <td>...</td>\n      <td>...</td>\n      <td>...</td>\n      <td>...</td>\n      <td>...</td>\n      <td>...</td>\n      <td>...</td>\n      <td>...</td>\n      <td>...</td>\n    </tr>\n    <tr>\n      <th>881</th>\n      <td>1022</td>\n      <td>24</td>\n      <td>18</td>\n      <td>NaN</td>\n      <td>2</td>\n      <td>23.0</td>\n      <td>NaN</td>\n      <td>2.0</td>\n      <td>2.0</td>\n      <td>0.0</td>\n      <td>...</td>\n      <td>36.0</td>\n      <td>3.0</td>\n      <td>4.0</td>\n      <td>6.0</td>\n      <td>10.0</td>\n      <td>3.0</td>\n      <td>1.0</td>\n      <td>6.0</td>\n      <td>2.0</td>\n      <td>3.0</td>\n    </tr>\n    <tr>\n      <th>882</th>\n      <td>1023</td>\n      <td>24</td>\n      <td>18</td>\n      <td>NaN</td>\n      <td>2</td>\n      <td>23.0</td>\n      <td>2.0</td>\n      <td>3.3</td>\n      <td>4.0</td>\n      <td>0.0</td>\n      <td>...</td>\n      <td>NaN</td>\n      <td>3.0</td>\n      <td>9.0</td>\n      <td>8.0</td>\n      <td>5.0</td>\n      <td>10.0</td>\n      <td>6.0</td>\n      <td>7.0</td>\n      <td>4.0</td>\n      <td>2.0</td>\n    </tr>\n    <tr>\n      <th>883</th>\n      <td>1024</td>\n      <td>4</td>\n      <td>18</td>\n      <td>NaN</td>\n      <td>1</td>\n      <td>20.0</td>\n      <td>NaN</td>\n      <td>NaN</td>\n      <td>3.0</td>\n      <td>0.0</td>\n      <td>...</td>\n      <td>31.0</td>\n      <td>3.0</td>\n      <td>7.0</td>\n      <td>7.0</td>\n      <td>3.0</td>\n      <td>6.0</td>\n      <td>8.0</td>\n      <td>6.0</td>\n      <td>3.7</td>\n      <td>3.0</td>\n    </tr>\n    <tr>\n      <th>884</th>\n      <td>1025</td>\n      <td>5</td>\n      <td>18</td>\n      <td>6.0</td>\n      <td>1</td>\n      <td>22.0</td>\n      <td>1.0</td>\n      <td>2.0</td>\n      <td>2.0</td>\n      <td>0.0</td>\n      <td>...</td>\n      <td>NaN</td>\n      <td>3.0</td>\n      <td>8.0</td>\n      <td>8.0</td>\n      <td>7.0</td>\n      <td>9.0</td>\n      <td>9.0</td>\n      <td>9.0</td>\n      <td>3.0</td>\n      <td>2.0</td>\n    </tr>\n    <tr>\n      <th>885</th>\n      <td>1026</td>\n      <td>5</td>\n      <td>18</td>\n      <td>NaN</td>\n      <td>2</td>\n      <td>19.0</td>\n      <td>3.0</td>\n      <td>3.0</td>\n      <td>3.0</td>\n      <td>0.0</td>\n      <td>...</td>\n      <td>NaN</td>\n      <td>3.0</td>\n      <td>7.0</td>\n      <td>8.0</td>\n      <td>6.0</td>\n      <td>8.0</td>\n      <td>9.0</td>\n      <td>4.0</td>\n      <td>5.0</td>\n      <td>2.0</td>\n    </tr>\n  </tbody>\n</table>\n<p>886 rows × 35 columns</p>\n</div>"
     },
     "execution_count": 4,
     "metadata": {},
     "output_type": "execute_result"
    }
   ],
   "source": [
    "uni_df = pd.read_excel(\".\\data\\Fallstudiendaten_Uni.xlsx\")\n",
    "uni_df"
   ]
  },
  {
   "cell_type": "code",
   "execution_count": 5,
   "outputs": [],
   "source": [
    "signifcat_variable_df=pd.DataFrame()\n",
    "\n",
    "\n"
   ],
   "metadata": {
    "collapsed": false
   }
  },
  {
   "cell_type": "code",
   "execution_count": 25,
   "outputs": [
    {
     "data": {
      "text/plain": "<class 'statsmodels.iolib.summary.Summary'>\n\"\"\"\n                             OLS Regression Results                            \n===============================================================================\nDep. Variable:     Lebenszufriedenheit   R-squared:                       0.532\nModel:                             OLS   Adj. R-squared:                  0.332\nMethod:                  Least Squares   F-statistic:                     2.655\nDate:                 Wed, 19 Jul 2023   Prob (F-statistic):           0.000230\nTime:                         16:48:45   Log-Likelihood:                -193.35\nNo. Observations:                  111   AIC:                             454.7\nDf Residuals:                       77   BIC:                             546.8\nDf Model:                           33                                         \nCovariance Type:             nonrobust                                         \n============================================================================================================\n                                               coef    std err          t      P>|t|      [0.025      0.975]\n------------------------------------------------------------------------------------------------------------\nIntercept                                   -0.0002      0.001     -0.222      0.825      -0.002       0.002\nParticipant                                  0.0003      0.001      0.491      0.625      -0.001       0.002\nStudiengang                                  0.0363      0.034      1.063      0.291      -0.032       0.104\nStandort                                     0.0033      0.018      0.185      0.854      -0.032       0.038\nBesuch_Wirtschaftsmathematik                -0.3265      0.193     -1.694      0.094      -0.710       0.057\nGeschlecht                                  -0.1432      0.438     -0.327      0.745      -1.016       0.729\nGeburtsjahr                                  0.0442      0.084      0.526      0.600      -0.123       0.211\nBeziehungsstatus                             0.5039      0.190      2.652      0.010       0.126       0.882\nDurchschnittsnote_im_Abitur                  0.1310      0.428      0.306      0.760      -0.721       0.983\nMathematiknote_im_Abitur                     0.0089      0.217      0.041      0.968      -0.423       0.441\nLK_Deutsch                                  -0.4296      0.403     -1.065      0.290      -1.232       0.373\nLK_Mathe                                    -0.4703      0.392     -1.200      0.234      -1.251       0.310\nLK_Englisch                                 -0.2325      0.372     -0.626      0.533      -0.972       0.507\nReligion                                    -0.1248      0.069     -1.809      0.074      -0.262       0.013\nLernaufwand                                 -0.0032      0.003     -1.026      0.308      -0.010       0.003\nSchwierigkeitsgrad                           0.0055      0.298      0.019      0.985      -0.588       0.599\nUmfang                                       0.4653      0.310      1.501      0.137      -0.152       1.082\nErwartungen                                  0.0775      0.265      0.292      0.771      -0.451       0.606\nZeit_Studium                                -0.0364      0.026     -1.381      0.171      -0.089       0.016\nZeit_Praxispartner                           0.0360      0.028      1.303      0.196      -0.019       0.091\nZeit_Nebenjob                               -0.0518      0.036     -1.435      0.155      -0.124       0.020\nZeit_Hobbys                                 -0.0309      0.031     -1.012      0.315      -0.092       0.030\nZeit_Freizeit                               -0.0107      0.023     -0.469      0.641      -0.056       0.035\nZeit_Hausarbeit                             -0.0133      0.026     -0.505      0.615      -0.066       0.039\nZeit_Essen                                   0.0581      0.038      1.523      0.132      -0.018       0.134\nZeit_Schlafen                                0.0132      0.023      0.572      0.569      -0.033       0.059\nZeit_Sonstiges                              -0.0023      0.022     -0.105      0.917      -0.045       0.041\nWechsel_Praxispartner                        0.0573      0.285      0.201      0.841      -0.510       0.625\nZufriedenheit_mit_Praxispartner              0.1877      0.083      2.273      0.026       0.023       0.352\nZufriedenheit_mit_finanzieller_Situation     0.0603      0.079      0.762      0.448      -0.097       0.218\nZufriedenheit_mit_Gesundheit                 0.1735      0.101      1.720      0.089      -0.027       0.374\nZufriedenheit_mit_Kommilitonenaustausch     -0.0335      0.085     -0.393      0.695      -0.203       0.136\nStudienzufriedenheit                         0.3706      0.117      3.176      0.002       0.138       0.603\nMathenote_im_2_Semester                     -0.0639      0.216     -0.296      0.768      -0.493       0.366\nZufriedenheit_mit_Note                       0.0227      0.235      0.096      0.923      -0.445       0.491\n==============================================================================\nOmnibus:                        0.855   Durbin-Watson:                   2.246\nProb(Omnibus):                  0.652   Jarque-Bera (JB):                0.971\nSkew:                          -0.160   Prob(JB):                        0.615\nKurtosis:                       2.673   Cond. No.                     1.66e+18\n==============================================================================\n\nNotes:\n[1] Standard Errors assume that the covariance matrix of the errors is correctly specified.\n[2] The smallest eigenvalue is 1.46e-29. This might indicate that there are\nstrong multicollinearity problems or that the design matrix is singular.\n\"\"\"",
      "text/html": "<table class=\"simpletable\">\n<caption>OLS Regression Results</caption>\n<tr>\n  <th>Dep. Variable:</th>    <td>Lebenszufriedenheit</td> <th>  R-squared:         </th> <td>   0.532</td>\n</tr>\n<tr>\n  <th>Model:</th>                    <td>OLS</td>         <th>  Adj. R-squared:    </th> <td>   0.332</td>\n</tr>\n<tr>\n  <th>Method:</th>              <td>Least Squares</td>    <th>  F-statistic:       </th> <td>   2.655</td>\n</tr>\n<tr>\n  <th>Date:</th>              <td>Wed, 19 Jul 2023</td>   <th>  Prob (F-statistic):</th> <td>0.000230</td>\n</tr>\n<tr>\n  <th>Time:</th>                  <td>16:48:45</td>       <th>  Log-Likelihood:    </th> <td> -193.35</td>\n</tr>\n<tr>\n  <th>No. Observations:</th>       <td>   111</td>        <th>  AIC:               </th> <td>   454.7</td>\n</tr>\n<tr>\n  <th>Df Residuals:</th>           <td>    77</td>        <th>  BIC:               </th> <td>   546.8</td>\n</tr>\n<tr>\n  <th>Df Model:</th>               <td>    33</td>        <th>                     </th>     <td> </td>   \n</tr>\n<tr>\n  <th>Covariance Type:</th>       <td>nonrobust</td>      <th>                     </th>     <td> </td>   \n</tr>\n</table>\n<table class=\"simpletable\">\n<tr>\n                      <td></td>                        <th>coef</th>     <th>std err</th>      <th>t</th>      <th>P>|t|</th>  <th>[0.025</th>    <th>0.975]</th>  \n</tr>\n<tr>\n  <th>Intercept</th>                                <td>   -0.0002</td> <td>    0.001</td> <td>   -0.222</td> <td> 0.825</td> <td>   -0.002</td> <td>    0.002</td>\n</tr>\n<tr>\n  <th>Participant</th>                              <td>    0.0003</td> <td>    0.001</td> <td>    0.491</td> <td> 0.625</td> <td>   -0.001</td> <td>    0.002</td>\n</tr>\n<tr>\n  <th>Studiengang</th>                              <td>    0.0363</td> <td>    0.034</td> <td>    1.063</td> <td> 0.291</td> <td>   -0.032</td> <td>    0.104</td>\n</tr>\n<tr>\n  <th>Standort</th>                                 <td>    0.0033</td> <td>    0.018</td> <td>    0.185</td> <td> 0.854</td> <td>   -0.032</td> <td>    0.038</td>\n</tr>\n<tr>\n  <th>Besuch_Wirtschaftsmathematik</th>             <td>   -0.3265</td> <td>    0.193</td> <td>   -1.694</td> <td> 0.094</td> <td>   -0.710</td> <td>    0.057</td>\n</tr>\n<tr>\n  <th>Geschlecht</th>                               <td>   -0.1432</td> <td>    0.438</td> <td>   -0.327</td> <td> 0.745</td> <td>   -1.016</td> <td>    0.729</td>\n</tr>\n<tr>\n  <th>Geburtsjahr</th>                              <td>    0.0442</td> <td>    0.084</td> <td>    0.526</td> <td> 0.600</td> <td>   -0.123</td> <td>    0.211</td>\n</tr>\n<tr>\n  <th>Beziehungsstatus</th>                         <td>    0.5039</td> <td>    0.190</td> <td>    2.652</td> <td> 0.010</td> <td>    0.126</td> <td>    0.882</td>\n</tr>\n<tr>\n  <th>Durchschnittsnote_im_Abitur</th>              <td>    0.1310</td> <td>    0.428</td> <td>    0.306</td> <td> 0.760</td> <td>   -0.721</td> <td>    0.983</td>\n</tr>\n<tr>\n  <th>Mathematiknote_im_Abitur</th>                 <td>    0.0089</td> <td>    0.217</td> <td>    0.041</td> <td> 0.968</td> <td>   -0.423</td> <td>    0.441</td>\n</tr>\n<tr>\n  <th>LK_Deutsch</th>                               <td>   -0.4296</td> <td>    0.403</td> <td>   -1.065</td> <td> 0.290</td> <td>   -1.232</td> <td>    0.373</td>\n</tr>\n<tr>\n  <th>LK_Mathe</th>                                 <td>   -0.4703</td> <td>    0.392</td> <td>   -1.200</td> <td> 0.234</td> <td>   -1.251</td> <td>    0.310</td>\n</tr>\n<tr>\n  <th>LK_Englisch</th>                              <td>   -0.2325</td> <td>    0.372</td> <td>   -0.626</td> <td> 0.533</td> <td>   -0.972</td> <td>    0.507</td>\n</tr>\n<tr>\n  <th>Religion</th>                                 <td>   -0.1248</td> <td>    0.069</td> <td>   -1.809</td> <td> 0.074</td> <td>   -0.262</td> <td>    0.013</td>\n</tr>\n<tr>\n  <th>Lernaufwand</th>                              <td>   -0.0032</td> <td>    0.003</td> <td>   -1.026</td> <td> 0.308</td> <td>   -0.010</td> <td>    0.003</td>\n</tr>\n<tr>\n  <th>Schwierigkeitsgrad</th>                       <td>    0.0055</td> <td>    0.298</td> <td>    0.019</td> <td> 0.985</td> <td>   -0.588</td> <td>    0.599</td>\n</tr>\n<tr>\n  <th>Umfang</th>                                   <td>    0.4653</td> <td>    0.310</td> <td>    1.501</td> <td> 0.137</td> <td>   -0.152</td> <td>    1.082</td>\n</tr>\n<tr>\n  <th>Erwartungen</th>                              <td>    0.0775</td> <td>    0.265</td> <td>    0.292</td> <td> 0.771</td> <td>   -0.451</td> <td>    0.606</td>\n</tr>\n<tr>\n  <th>Zeit_Studium</th>                             <td>   -0.0364</td> <td>    0.026</td> <td>   -1.381</td> <td> 0.171</td> <td>   -0.089</td> <td>    0.016</td>\n</tr>\n<tr>\n  <th>Zeit_Praxispartner</th>                       <td>    0.0360</td> <td>    0.028</td> <td>    1.303</td> <td> 0.196</td> <td>   -0.019</td> <td>    0.091</td>\n</tr>\n<tr>\n  <th>Zeit_Nebenjob</th>                            <td>   -0.0518</td> <td>    0.036</td> <td>   -1.435</td> <td> 0.155</td> <td>   -0.124</td> <td>    0.020</td>\n</tr>\n<tr>\n  <th>Zeit_Hobbys</th>                              <td>   -0.0309</td> <td>    0.031</td> <td>   -1.012</td> <td> 0.315</td> <td>   -0.092</td> <td>    0.030</td>\n</tr>\n<tr>\n  <th>Zeit_Freizeit</th>                            <td>   -0.0107</td> <td>    0.023</td> <td>   -0.469</td> <td> 0.641</td> <td>   -0.056</td> <td>    0.035</td>\n</tr>\n<tr>\n  <th>Zeit_Hausarbeit</th>                          <td>   -0.0133</td> <td>    0.026</td> <td>   -0.505</td> <td> 0.615</td> <td>   -0.066</td> <td>    0.039</td>\n</tr>\n<tr>\n  <th>Zeit_Essen</th>                               <td>    0.0581</td> <td>    0.038</td> <td>    1.523</td> <td> 0.132</td> <td>   -0.018</td> <td>    0.134</td>\n</tr>\n<tr>\n  <th>Zeit_Schlafen</th>                            <td>    0.0132</td> <td>    0.023</td> <td>    0.572</td> <td> 0.569</td> <td>   -0.033</td> <td>    0.059</td>\n</tr>\n<tr>\n  <th>Zeit_Sonstiges</th>                           <td>   -0.0023</td> <td>    0.022</td> <td>   -0.105</td> <td> 0.917</td> <td>   -0.045</td> <td>    0.041</td>\n</tr>\n<tr>\n  <th>Wechsel_Praxispartner</th>                    <td>    0.0573</td> <td>    0.285</td> <td>    0.201</td> <td> 0.841</td> <td>   -0.510</td> <td>    0.625</td>\n</tr>\n<tr>\n  <th>Zufriedenheit_mit_Praxispartner</th>          <td>    0.1877</td> <td>    0.083</td> <td>    2.273</td> <td> 0.026</td> <td>    0.023</td> <td>    0.352</td>\n</tr>\n<tr>\n  <th>Zufriedenheit_mit_finanzieller_Situation</th> <td>    0.0603</td> <td>    0.079</td> <td>    0.762</td> <td> 0.448</td> <td>   -0.097</td> <td>    0.218</td>\n</tr>\n<tr>\n  <th>Zufriedenheit_mit_Gesundheit</th>             <td>    0.1735</td> <td>    0.101</td> <td>    1.720</td> <td> 0.089</td> <td>   -0.027</td> <td>    0.374</td>\n</tr>\n<tr>\n  <th>Zufriedenheit_mit_Kommilitonenaustausch</th>  <td>   -0.0335</td> <td>    0.085</td> <td>   -0.393</td> <td> 0.695</td> <td>   -0.203</td> <td>    0.136</td>\n</tr>\n<tr>\n  <th>Studienzufriedenheit</th>                     <td>    0.3706</td> <td>    0.117</td> <td>    3.176</td> <td> 0.002</td> <td>    0.138</td> <td>    0.603</td>\n</tr>\n<tr>\n  <th>Mathenote_im_2_Semester</th>                  <td>   -0.0639</td> <td>    0.216</td> <td>   -0.296</td> <td> 0.768</td> <td>   -0.493</td> <td>    0.366</td>\n</tr>\n<tr>\n  <th>Zufriedenheit_mit_Note</th>                   <td>    0.0227</td> <td>    0.235</td> <td>    0.096</td> <td> 0.923</td> <td>   -0.445</td> <td>    0.491</td>\n</tr>\n</table>\n<table class=\"simpletable\">\n<tr>\n  <th>Omnibus:</th>       <td> 0.855</td> <th>  Durbin-Watson:     </th> <td>   2.246</td>\n</tr>\n<tr>\n  <th>Prob(Omnibus):</th> <td> 0.652</td> <th>  Jarque-Bera (JB):  </th> <td>   0.971</td>\n</tr>\n<tr>\n  <th>Skew:</th>          <td>-0.160</td> <th>  Prob(JB):          </th> <td>   0.615</td>\n</tr>\n<tr>\n  <th>Kurtosis:</th>      <td> 2.673</td> <th>  Cond. No.          </th> <td>1.66e+18</td>\n</tr>\n</table><br/><br/>Notes:<br/>[1] Standard Errors assume that the covariance matrix of the errors is correctly specified.<br/>[2] The smallest eigenvalue is 1.46e-29. This might indicate that there are<br/>strong multicollinearity problems or that the design matrix is singular."
     },
     "metadata": {},
     "output_type": "display_data"
    },
    {
     "name": "stdout",
     "output_type": "stream",
     "text": [
      "Coefficients: Intercept                                  -0.000227\n",
      "Participant                                 0.000299\n",
      "Studiengang                                 0.036331\n",
      "Standort                                    0.003266\n",
      "Besuch_Wirtschaftsmathematik               -0.326479\n",
      "Geschlecht                                 -0.143219\n",
      "Geburtsjahr                                 0.044198\n",
      "Beziehungsstatus                            0.503899\n",
      "Durchschnittsnote_im_Abitur                 0.130990\n",
      "Mathematiknote_im_Abitur                    0.008862\n",
      "LK_Deutsch                                 -0.429584\n",
      "LK_Mathe                                   -0.470320\n",
      "LK_Englisch                                -0.232472\n",
      "Religion                                   -0.124805\n",
      "Lernaufwand                                -0.003247\n",
      "Schwierigkeitsgrad                          0.005512\n",
      "Umfang                                      0.465261\n",
      "Erwartungen                                 0.077546\n",
      "Zeit_Studium                               -0.036445\n",
      "Zeit_Praxispartner                          0.035959\n",
      "Zeit_Nebenjob                              -0.051770\n",
      "Zeit_Hobbys                                -0.030948\n",
      "Zeit_Freizeit                              -0.010732\n",
      "Zeit_Hausarbeit                            -0.013313\n",
      "Zeit_Essen                                  0.058149\n",
      "Zeit_Schlafen                               0.013213\n",
      "Zeit_Sonstiges                             -0.002268\n",
      "Wechsel_Praxispartner                       0.057274\n",
      "Zufriedenheit_mit_Praxispartner             0.187663\n",
      "Zufriedenheit_mit_finanzieller_Situation    0.060281\n",
      "Zufriedenheit_mit_Gesundheit                0.173484\n",
      "Zufriedenheit_mit_Kommilitonenaustausch    -0.033498\n",
      "Studienzufriedenheit                        0.370621\n",
      "Mathenote_im_2_Semester                    -0.063853\n",
      "Zufriedenheit_mit_Note                      0.022653\n",
      "dtype: float64\n",
      "P-values: Intercept                                   0.824581\n",
      "Participant                                 0.624765\n",
      "Studiengang                                 0.291254\n",
      "Standort                                    0.853889\n",
      "Besuch_Wirtschaftsmathematik                0.094322\n",
      "Geschlecht                                  0.744686\n",
      "Geburtsjahr                                 0.600337\n",
      "Beziehungsstatus                            0.009711\n",
      "Durchschnittsnote_im_Abitur                 0.760320\n",
      "Mathematiknote_im_Abitur                    0.967517\n",
      "LK_Deutsch                                  0.290026\n",
      "LK_Mathe                                    0.233942\n",
      "LK_Englisch                                 0.533327\n",
      "Religion                                    0.074290\n",
      "Lernaufwand                                 0.308300\n",
      "Schwierigkeitsgrad                          0.985286\n",
      "Umfang                                      0.137394\n",
      "Erwartungen                                 0.770828\n",
      "Zeit_Studium                                0.171366\n",
      "Zeit_Praxispartner                          0.196399\n",
      "Zeit_Nebenjob                               0.155305\n",
      "Zeit_Hobbys                                 0.314729\n",
      "Zeit_Freizeit                               0.640536\n",
      "Zeit_Hausarbeit                             0.614783\n",
      "Zeit_Essen                                  0.131851\n",
      "Zeit_Schlafen                               0.569287\n",
      "Zeit_Sonstiges                              0.916625\n",
      "Wechsel_Praxispartner                       0.841268\n",
      "Zufriedenheit_mit_Praxispartner             0.025824\n",
      "Zufriedenheit_mit_finanzieller_Situation    0.448430\n",
      "Zufriedenheit_mit_Gesundheit                0.089417\n",
      "Zufriedenheit_mit_Kommilitonenaustausch     0.695249\n",
      "Studienzufriedenheit                        0.002151\n",
      "Mathenote_im_2_Semester                     0.767965\n",
      "Zufriedenheit_mit_Note                      0.923480\n",
      "dtype: float64\n",
      "P-values-ordered: Studienzufriedenheit                        0.002151\n",
      "Beziehungsstatus                            0.009711\n",
      "Zufriedenheit_mit_Praxispartner             0.025824\n",
      "Religion                                    0.074290\n",
      "Zufriedenheit_mit_Gesundheit                0.089417\n",
      "Besuch_Wirtschaftsmathematik                0.094322\n",
      "Zeit_Essen                                  0.131851\n",
      "Umfang                                      0.137394\n",
      "Zeit_Nebenjob                               0.155305\n",
      "Zeit_Studium                                0.171366\n",
      "Zeit_Praxispartner                          0.196399\n",
      "LK_Mathe                                    0.233942\n",
      "LK_Deutsch                                  0.290026\n",
      "Studiengang                                 0.291254\n",
      "Lernaufwand                                 0.308300\n",
      "Zeit_Hobbys                                 0.314729\n",
      "Zufriedenheit_mit_finanzieller_Situation    0.448430\n",
      "LK_Englisch                                 0.533327\n",
      "Zeit_Schlafen                               0.569287\n",
      "Geburtsjahr                                 0.600337\n",
      "Zeit_Hausarbeit                             0.614783\n",
      "Participant                                 0.624765\n",
      "Zeit_Freizeit                               0.640536\n",
      "Zufriedenheit_mit_Kommilitonenaustausch     0.695249\n",
      "Geschlecht                                  0.744686\n",
      "Durchschnittsnote_im_Abitur                 0.760320\n",
      "Mathenote_im_2_Semester                     0.767965\n",
      "Erwartungen                                 0.770828\n",
      "Intercept                                   0.824581\n",
      "Wechsel_Praxispartner                       0.841268\n",
      "Standort                                    0.853889\n",
      "Zeit_Sonstiges                              0.916625\n",
      "Zufriedenheit_mit_Note                      0.923480\n",
      "Mathematiknote_im_Abitur                    0.967517\n",
      "Schwierigkeitsgrad                          0.985286\n",
      "dtype: float64\n",
      "R-squared: 0.5322269565179559\n",
      "Residuals: 1     -0.639335\n",
      "33    -0.680602\n",
      "39     2.104696\n",
      "44     1.808939\n",
      "50    -0.217603\n",
      "         ...   \n",
      "871    1.855776\n",
      "872   -0.814497\n",
      "873    1.936783\n",
      "878   -0.979019\n",
      "879    0.021011\n",
      "Length: 111, dtype: float64\n",
      "Fitted values: 1      5.639335\n",
      "33     7.680602\n",
      "39     5.895304\n",
      "44     8.191061\n",
      "50     8.217603\n",
      "         ...   \n",
      "871    7.144224\n",
      "872    8.814497\n",
      "873    8.063217\n",
      "878    6.979019\n",
      "879    8.978989\n",
      "Length: 111, dtype: float64\n"
     ]
    }
   ],
   "source": [
    "import pandas as pd\n",
    "from scipy import stats\n",
    "\n",
    "\n",
    "columns_list = ['Participant', 'Studiengang', 'Standort', 'Besuch Wirtschaftsmathematik', 'Geschlecht', 'Geburtsjahr', 'Beziehungsstatus', 'Durchschnittsnote im Abitur', 'Mathematiknote im Abitur', 'LK_Deutsch', 'LK_Mathe', 'LK_Englisch', 'Religion', 'Lernaufwand', 'Schwierigkeitsgrad', 'Umfang', 'Erwartungen', 'Zeit-Studium', 'Zeit-Praxispartner', 'Zeit-Nebenjob', 'Zeit-Hobbys', 'Zeit-Freizeit', 'Zeit-Hausarbeit', 'Zeit-Essen', 'Zeit-Schlafen', 'Zeit-Sonstiges', 'Wechsel Praxispartner', 'Lebenszufriedenheit', 'Zufriedenheit mit Praxispartner', 'Zufriedenheit mit finanzieller Situation', 'Zufriedenheit mit Gesundheit', 'Zufriedenheit mit Kommilitonenaustausch', 'Studienzufriedenheit', 'Mathenote im 2. Semester', 'Zufriedenheit mit Note']\n",
    "\n",
    "columns_without_spaces = [column_name.replace(\" \",\"_\").replace(\"-\",\"_\").replace(\".\",\"\") for column_name in columns_list]\n",
    "uni_df.columns = columns_without_spaces\n",
    "\n",
    "columns_list_without_lebenszufriedenheit = ['Participant', 'Studiengang', 'Standort', 'Besuch Wirtschaftsmathematik', 'Geschlecht', 'Geburtsjahr', 'Beziehungsstatus', 'Durchschnittsnote im Abitur', 'Mathematiknote im Abitur', 'LK_Deutsch', 'LK_Mathe', 'LK_Englisch', 'Religion', 'Lernaufwand', 'Schwierigkeitsgrad', 'Umfang', 'Erwartungen', 'Zeit-Studium', 'Zeit-Praxispartner', 'Zeit-Nebenjob', 'Zeit-Hobbys', 'Zeit-Freizeit', 'Zeit-Hausarbeit', 'Zeit-Essen', 'Zeit-Schlafen', 'Zeit-Sonstiges', 'Wechsel Praxispartner', 'Zufriedenheit mit Praxispartner', 'Zufriedenheit mit finanzieller Situation', 'Zufriedenheit mit Gesundheit', 'Zufriedenheit mit Kommilitonenaustausch', 'Studienzufriedenheit', 'Mathenote im 2. Semester', 'Zufriedenheit mit Note']\n",
    "columns_without_spaces = [column_name.replace(\" \",\"_\").replace(\"-\",\"_\").replace(\".\",\"\") for column_name in columns_list_without_lebenszufriedenheit]\n",
    "\n",
    "#print(columns_without_spaces)\n",
    "columns_string = '+'.join(columns_without_spaces)\n",
    "#print(columns_string)\n",
    "model = smf.ols(f'Lebenszufriedenheit ~ {columns_string}', uni_df)\n",
    "result = model.fit()\n",
    "display(result.summary())\n",
    "# Access individual attributes for interpretation\n",
    "print(\"Coefficients:\", result.params)\n",
    "print(\"P-values:\", result.pvalues)\n",
    "pvalues_ordered = result.pvalues.sort_values()\n",
    "print(\"P-values-ordered:\", pvalues_ordered)\n",
    "print(\"R-squared:\", result.rsquared)\n",
    "\n",
    "# Get the residuals and fitted values\n",
    "print(\"Residuals:\", result.resid)\n",
    "print(\"Fitted values:\", result.fittedvalues)\n"
   ],
   "metadata": {
    "collapsed": false
   }
  },
  {
   "cell_type": "markdown",
   "source": [
    "Die p-values sind bei allen Variablen über dem niveau von 0.05, ausser bei:\n",
    "Studienzufriedenheit                        0.002151\n",
    "Beziehungsstatus                            0.009711\n",
    "Zufriedenheit_mit_Praxispartner             0.025824"
   ],
   "metadata": {
    "collapsed": false
   }
  },
  {
   "cell_type": "code",
   "execution_count": 33,
   "outputs": [
    {
     "name": "stdout",
     "output_type": "stream",
     "text": [
      "                          Variable durchgeführter_Test  Ergebnis_des_Tests\n",
      "0             Studienzufriedenheit         OLS-p_value            0.002151\n",
      "1                 Beziehungsstatus         OLS-p_value            0.009711\n",
      "2  Zufriedenheit_mit_Praxispartner         OLS-p_value            0.025824\n"
     ]
    }
   ],
   "source": [
    "data = {\n",
    "    \"Variable\": [\"Studienzufriedenheit\", \"Beziehungsstatus\", \"Zufriedenheit_mit_Praxispartner\"],\n",
    "    \"durchgeführter_Test\": [\"OLS-p_value\", \"OLS-p_value\", \"OLS-p_value\"],\n",
    "    \"Ergebnis_des_Tests\": [0.002151, 0.009711, 0.025824]\n",
    "}\n",
    "\n",
    "result_df = pd.DataFrame(data)\n",
    "print(result_df)"
   ],
   "metadata": {
    "collapsed": false
   }
  },
  {
   "cell_type": "markdown",
   "source": [],
   "metadata": {
    "collapsed": false
   }
  }
 ],
 "metadata": {
  "kernelspec": {
   "display_name": "Python 3",
   "language": "python",
   "name": "python3"
  },
  "language_info": {
   "codemirror_mode": {
    "name": "ipython",
    "version": 2
   },
   "file_extension": ".py",
   "mimetype": "text/x-python",
   "name": "python",
   "nbconvert_exporter": "python",
   "pygments_lexer": "ipython2",
   "version": "2.7.6"
  }
 },
 "nbformat": 4,
 "nbformat_minor": 0
}
