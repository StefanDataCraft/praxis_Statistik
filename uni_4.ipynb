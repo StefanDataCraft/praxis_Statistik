{
 "cells": [
  {
   "cell_type": "markdown",
   "source": [
    "### Punkt 4\n",
    "\n",
    "Erstelle aus allen Variablen ein gemeinsames Regressionsmodell für die Vorhersage\n",
    "der abhängigen Variable und interpretiere dies in den Grundlagen vollständig (R², adj.\n",
    "R², F-Statistik) sowie an 2-3 ausgewählten Variablen der Koeffizienten-Tabelle. Dieses\n",
    "Modell stellt nun dein neues Grundmodell dar, welches du gern verbessern möchtes"
   ],
   "metadata": {
    "collapsed": false
   }
  },
  {
   "cell_type": "code",
   "execution_count": 2,
   "outputs": [
    {
     "name": "stdout",
     "output_type": "stream",
     "text": [
      "                             OLS Regression Results                            \n",
      "===============================================================================\n",
      "Dep. Variable:     Lebenszufriedenheit   R-squared:                       0.137\n",
      "Model:                             OLS   Adj. R-squared:                  0.122\n",
      "Method:                  Least Squares   F-statistic:                     9.373\n",
      "Date:                 Wed, 19 Jul 2023   Prob (F-statistic):           2.64e-08\n",
      "Time:                         17:26:27   Log-Likelihood:                -629.39\n",
      "No. Observations:                  302   AIC:                             1271.\n",
      "Df Residuals:                      296   BIC:                             1293.\n",
      "Df Model:                            5                                         \n",
      "Covariance Type:             nonrobust                                         \n",
      "================================================================================================\n",
      "                                   coef    std err          t      P>|t|      [0.025      0.975]\n",
      "------------------------------------------------------------------------------------------------\n",
      "const                            4.8680      0.755      6.448      0.000       3.382       6.354\n",
      "Durchschnittsnote im Abitur      0.1018      0.229      0.445      0.657      -0.348       0.552\n",
      "Mathematiknote im Abitur        -0.0976      0.131     -0.746      0.456      -0.355       0.160\n",
      "Lernaufwand                      0.0028      0.002      1.813      0.071      -0.000       0.006\n",
      "Schwierigkeitsgrad              -0.0798      0.131     -0.609      0.543      -0.338       0.178\n",
      "Zufriedenheit mit Gesundheit     0.2992      0.047      6.420      0.000       0.207       0.391\n",
      "==============================================================================\n",
      "Omnibus:                       15.561   Durbin-Watson:                   1.992\n",
      "Prob(Omnibus):                  0.000   Jarque-Bera (JB):               16.847\n",
      "Skew:                          -0.578   Prob(JB):                     0.000220\n",
      "Kurtosis:                       3.058   Cond. No.                         776.\n",
      "==============================================================================\n",
      "\n",
      "Notes:\n",
      "[1] Standard Errors assume that the covariance matrix of the errors is correctly specified.\n",
      "R^2: 0.13668245433597737\n",
      "Adjusted R^2: 0.12209938768624728\n",
      "F-Statistik: 9.372682551547342\n",
      "p-Wert (F-Test): 2.6384881037033868e-08\n",
      "\n",
      "Koeffizienten-Tabelle:\n",
      "Durchschnittsnote im Abitur: Coefficient = 0.1018, p-Wert = 0.6567\n",
      "Mathematiknote im Abitur: Coefficient = -0.0976, p-Wert = 0.4561\n",
      "Lernaufwand: Coefficient = 0.0028, p-Wert = 0.0709\n",
      "Schwierigkeitsgrad: Coefficient = -0.0798, p-Wert = 0.5430\n",
      "Zufriedenheit mit Gesundheit: Coefficient = 0.2992, p-Wert = 0.0000\n"
     ]
    }
   ],
   "source": [
    "import pandas as pd\n",
    "import scipy.stats as stats\n",
    "import statsmodels.api as sm\n",
    "\n",
    "# Read the data\n",
    "uni_df = pd.read_excel(\"C:\\\\Users\\\\User\\\\Desktop\\\\Statistik\\\\Project\\\\Fallstudiendaten_Uni.xlsx\")\n",
    "uni_df\n",
    "dependent_variable = 'Lebenszufriedenheit'\n",
    "selected_variables = ['Durchschnittsnote im Abitur', 'Mathematiknote im Abitur', 'Lernaufwand', 'Schwierigkeitsgrad', 'Zufriedenheit mit Gesundheit']\n",
    "\n",
    "# Schritt 1: Daten bereinigen\n",
    "uni_df_cleaned = uni_df.dropna(subset=[dependent_variable] + selected_variables)\n",
    "x = uni_df_cleaned[selected_variables]\n",
    "y = uni_df_cleaned[dependent_variable]\n",
    "\n",
    "# Schritt 2: Regressionsmodell erstellen\n",
    "X = sm.add_constant(x)  # Konstante hinzufügen (für den Intercepts)\n",
    "model = sm.OLS(y, X).fit()\n",
    "\n",
    "# Schritt 3: Ergebnisse interpretieren\n",
    "print(model.summary())\n",
    "\n",
    "# R^2 und adj. R^2\n",
    "print(\"R^2:\", model.rsquared)\n",
    "print(\"Adjusted R^2:\", model.rsquared_adj)\n",
    "\n",
    "# F-Statistik und p-Wert\n",
    "print(\"F-Statistik:\", model.fvalue)\n",
    "print(\"p-Wert (F-Test):\", model.f_pvalue)\n",
    "\n",
    "# Interpretation der Koeffizienten-Tabelle (nur als Beispiel, die Ausgabe hängt von den tatsächlichen Variablen ab)\n",
    "print(\"\\nKoeffizienten-Tabelle:\")\n",
    "coefficients = model.params[1:]  # Erste Zeile überspringen, da es die Konstante ist\n",
    "p_values = model.pvalues[1:]    # Erste Zeile überspringen, da es die Konstante ist\n",
    "\n",
    "for variable, coef, p_value in zip(selected_variables, coefficients, p_values):\n",
    "    print(f\"{variable}: Coefficient = {coef:.4f}, p-Wert = {p_value:.4f}\")\n",
    "\n"
   ],
   "metadata": {
    "collapsed": false
   }
  },
  {
   "cell_type": "markdown",
   "source": [
    "Verbesserungsmöglichkeiten:\n",
    " - Überprüfung der Modellgüte (R^2, adj. R^2) und möglicherweise Hinzufügen weiterer relevanter Variablen\n",
    " - Überprüfung der statistischen Signifikanz aller Variablen und Entfernen nicht signifikanter Variablen\n",
    " - Überprüfung von Interaktionseffekten zwischen den Variablen\n",
    " - Überprüfung der Annahmen der linearen Regression (Normalität der Residuen, Homoskedastizität usw.)\n",
    " - Verwendung von Methoden wie Backward Elimination oder Stepwise Regression zur Modellselektion"
   ],
   "metadata": {
    "collapsed": false
   }
  },
  {
   "cell_type": "code",
   "execution_count": null,
   "outputs": [],
   "source": [],
   "metadata": {
    "collapsed": false
   }
  }
 ],
 "metadata": {
  "kernelspec": {
   "display_name": "Python 3",
   "language": "python",
   "name": "python3"
  },
  "language_info": {
   "codemirror_mode": {
    "name": "ipython",
    "version": 2
   },
   "file_extension": ".py",
   "mimetype": "text/x-python",
   "name": "python",
   "nbconvert_exporter": "python",
   "pygments_lexer": "ipython2",
   "version": "2.7.6"
  }
 },
 "nbformat": 4,
 "nbformat_minor": 0
}
