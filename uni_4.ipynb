{
 "cells": [
  {
   "cell_type": "markdown",
   "source": [
    "### Punkt 4\n",
    "\n",
    "Erstelle aus allen Variablen ein gemeinsames Regressionsmodell für die Vorhersage\n",
    "der abhängigen Variable und interpretiere dies in den Grundlagen vollständig (R², adj.\n",
    "R², F-Statistik) sowie an 2-3 ausgewählten Variablen der Koeffizienten-Tabelle. Dieses\n",
    "Modell stellt nun dein neues Grundmodell dar, welches du gern verbessern möchtes"
   ],
   "metadata": {
    "collapsed": false
   }
  },
  {
   "cell_type": "code",
   "execution_count": 2,
   "outputs": [
    {
     "name": "stdout",
     "output_type": "stream",
     "text": [
      "                             OLS Regression Results                            \n",
      "===============================================================================\n",
      "Dep. Variable:     Lebenszufriedenheit   R-squared:                       0.290\n",
      "Model:                             OLS   Adj. R-squared:                  0.287\n",
      "Method:                  Least Squares   F-statistic:                     102.6\n",
      "Date:                 Fri, 21 Jul 2023   Prob (F-statistic):           1.07e-55\n",
      "Time:                         10:42:19   Log-Likelihood:                -1505.3\n",
      "No. Observations:                  759   AIC:                             3019.\n",
      "Df Residuals:                      755   BIC:                             3037.\n",
      "Df Model:                            3                                         \n",
      "Covariance Type:             nonrobust                                         \n",
      "===================================================================================================\n",
      "                                      coef    std err          t      P>|t|      [0.025      0.975]\n",
      "---------------------------------------------------------------------------------------------------\n",
      "const                               2.3873      0.257      9.300      0.000       1.883       2.891\n",
      "Studienzufriedenheit                0.2908      0.032      9.138      0.000       0.228       0.353\n",
      "Zufriedenheit_mit_Praxispartner     0.1578      0.026      5.974      0.000       0.106       0.210\n",
      "Zufriedenheit_mit_Gesundheit        0.2353      0.027      8.672      0.000       0.182       0.289\n",
      "==============================================================================\n",
      "Omnibus:                       59.394   Durbin-Watson:                   2.067\n",
      "Prob(Omnibus):                  0.000   Jarque-Bera (JB):               77.836\n",
      "Skew:                          -0.646   Prob(JB):                     1.25e-17\n",
      "Kurtosis:                       3.891   Cond. No.                         46.6\n",
      "==============================================================================\n",
      "\n",
      "Notes:\n",
      "[1] Standard Errors assume that the covariance matrix of the errors is correctly specified.\n",
      "R^2: 0.28954391625516107\n",
      "Adjusted R^2: 0.28672091194889027\n",
      "F-Statistik: 102.56587834881527\n",
      "p-Wert (F-Test): 1.0688331185992954e-55\n",
      "\n",
      "Koeffizienten-Tabelle:\n",
      "Studienzufriedenheit: Coefficient = 0.2908, p-Wert = 0.0000\n",
      "Zufriedenheit_mit_Praxispartner: Coefficient = 0.1578, p-Wert = 0.0000\n",
      "Zufriedenheit_mit_Gesundheit: Coefficient = 0.2353, p-Wert = 0.0000\n"
     ]
    }
   ],
   "source": [
    "import pandas as pd\n",
    "import scipy.stats as stats\n",
    "import statsmodels.api as sm\n",
    "import make_uni_df\n",
    "\n",
    "# Read the data\n",
    "uni_df = make_uni_df.get_dummied_df()\n",
    "\n",
    "uni_df = uni_df[['Lebenszufriedenheit','Studienzufriedenheit','Zufriedenheit_mit_Praxispartner','Zufriedenheit_mit_Gesundheit']]\n",
    "\n",
    "dependent_variable = 'Lebenszufriedenheit'\n",
    "selected_variables = list(uni_df.columns)\n",
    "selected_variables.remove('Lebenszufriedenheit')\n",
    "\n",
    "# Schritt 1: Daten bereinigen\n",
    "uni_df_cleaned = uni_df.dropna(subset=[dependent_variable] + selected_variables)\n",
    "x = uni_df_cleaned[selected_variables]\n",
    "y = uni_df_cleaned[dependent_variable]\n",
    "\n",
    "# Schritt 2: Regressionsmodell erstellen\n",
    "X = sm.add_constant(x)  # Konstante hinzufügen (für den Intercepts)\n",
    "model = sm.OLS(y, X).fit()\n",
    "\n",
    "# Schritt 3: Ergebnisse interpretieren\n",
    "print(model.summary())\n",
    "\n",
    "# R^2 und adj. R^2\n",
    "print(\"R^2:\", model.rsquared)\n",
    "print(\"Adjusted R^2:\", model.rsquared_adj)\n",
    "\n",
    "# F-Statistik und p-Wert\n",
    "print(\"F-Statistik:\", model.fvalue)\n",
    "print(\"p-Wert (F-Test):\", model.f_pvalue)\n",
    "\n",
    "# Interpretation der Koeffizienten-Tabelle (nur als Beispiel, die Ausgabe hängt von den tatsächlichen Variablen ab)\n",
    "print(\"\\nKoeffizienten-Tabelle:\")\n",
    "coefficients = model.params[1:]  # Erste Zeile überspringen, da es die Konstante ist\n",
    "p_values = model.pvalues[1:]    # Erste Zeile überspringen, da es die Konstante ist\n",
    "\n",
    "for variable, coef, p_value in zip(selected_variables, coefficients, p_values):\n",
    "    print(f\"{variable}: Coefficient = {coef:.4f}, p-Wert = {p_value:.4f}\")\n",
    "\n"
   ],
   "metadata": {
    "collapsed": false
   }
  },
  {
   "cell_type": "markdown",
   "source": [
    "Verbesserungsmöglichkeiten:\n",
    " - Überprüfung der Modellgüte (R^2, adj. R^2) und möglicherweise Hinzufügen weiterer relevanter Variablen\n",
    " - Überprüfung der statistischen Signifikanz aller Variablen und Entfernen nicht signifikanter Variablen\n",
    " - Überprüfung von Interaktionseffekten zwischen den Variablen\n",
    " - Überprüfung der Annahmen der linearen Regression (Normalität der Residuen, Homoskedastizität usw.)\n",
    " - Verwendung von Methoden wie Backward Elimination oder Stepwise Regression zur Modellselektion"
   ],
   "metadata": {
    "collapsed": false
   }
  },
  {
   "cell_type": "code",
   "execution_count": null,
   "outputs": [],
   "source": [],
   "metadata": {
    "collapsed": false
   }
  }
 ],
 "metadata": {
  "kernelspec": {
   "display_name": "Python 3",
   "language": "python",
   "name": "python3"
  },
  "language_info": {
   "codemirror_mode": {
    "name": "ipython",
    "version": 2
   },
   "file_extension": ".py",
   "mimetype": "text/x-python",
   "name": "python",
   "nbconvert_exporter": "python",
   "pygments_lexer": "ipython2",
   "version": "2.7.6"
  }
 },
 "nbformat": 4,
 "nbformat_minor": 0
}
